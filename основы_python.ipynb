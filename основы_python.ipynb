{
 "cells": [
  {
   "cell_type": "markdown",
   "metadata": {
    "id": "M-DGa20PaHnu"
   },
   "source": [
    "#Задача 1\n",
    "Написать функцию на вход которой подается строка, состоящая из латинских букв.\n",
    "Функция должна вернуть количество гласных букв (a, e, i, o, u) в этой строке. Написать тесты для кода"
   ]
  },
  {
   "cell_type": "code",
   "execution_count": 1,
   "metadata": {
    "id": "XvX8X_JJ6PCb"
   },
   "outputs": [
    {
     "name": "stdout",
     "output_type": "stream",
     "text": [
      "14\n",
      "10\n",
      "3\n"
     ]
    }
   ],
   "source": [
    "def vowels_count(string):\n",
    "    k = 0\n",
    "    for i in range(len(string)):\n",
    "        if string[i] in 'aeiouAEIOU':\n",
    "            k += 1\n",
    "    return k\n",
    "\n",
    "print(vowels_count('Max Verstappen is a three-time world champion'))\n",
    "print(vowels_count('aeiouAEIOU'))\n",
    "print(vowels_count('mew mew mew'))"
   ]
  },
  {
   "cell_type": "markdown",
   "metadata": {
    "id": "t2ClV_Y0bbr6"
   },
   "source": [
    "# Задача 2\n",
    "Написать функцию на вход, которой подается строка. Функция должна вернуть true, если\n",
    "каждый символ в строке встречается только 1 раз, иначе должна вернуть false. Написать тесты для кода"
   ]
  },
  {
   "cell_type": "code",
   "execution_count": 2,
   "metadata": {
    "id": "FppbECao6VIz"
   },
   "outputs": [
    {
     "name": "stdout",
     "output_type": "stream",
     "text": [
      "False\n",
      "True\n",
      "False\n"
     ]
    }
   ],
   "source": [
    "def symbols_count(string):\n",
    "    for i in range(len(string)):\n",
    "        if string.count(string[i]) > 1:\n",
    "            return False\n",
    "    return True\n",
    "\n",
    "print(symbols_count('AAA'))\n",
    "print(symbols_count('ABC'))\n",
    "print(symbols_count('T'*10**6))"
   ]
  },
  {
   "cell_type": "markdown",
   "metadata": {
    "id": "udRiIK1cdt6E"
   },
   "source": [
    "# Задача 3\n",
    "Написать функцию, которая принимает положительное число и возвращает количество\n",
    "бит равных 1 в этом числе. Написать тесты для кода"
   ]
  },
  {
   "cell_type": "code",
   "execution_count": null,
   "metadata": {
    "id": "6tkfDJRz6dp_"
   },
   "outputs": [],
   "source": [
    "def one_bites(number):\n",
    "    number_bin = bin(number)[2:]\n",
    "    return number_bin.count('1')\n",
    "\n",
    "print(one_bites(18))\n",
    "print(one_bites(2))\n",
    "print(one_bites(987))"
   ]
  },
  {
   "cell_type": "markdown",
   "metadata": {
    "id": "26dDUz-Ae17N"
   },
   "source": [
    "# Задача 4\n",
    "Написать функцию, которая принимает положительное число. Функция должна вернуть то,\n",
    "сколько раз необходимо перемножать цифры числа или результат перемножения, чтобы\n",
    "получилось число состоящее из одной цифры.\n",
    "Например, для входного числа:\n",
    "· 39 функция должна вернуть 3, так как 3*9=27 => 2*7=14 => 1*4=4\n",
    "· 4 функция должна вернуть 0, так как число уже состоит из одной цифры\n",
    "· 999 функция должна вернуть 4, так как 9*9*9=729 => 7*2*9=126 => 1*2*6=12 =>\n",
    "1*2=2. Написать тесты для кода"
   ]
  },
  {
   "cell_type": "code",
   "execution_count": null,
   "metadata": {
    "id": "BH1A_Mgi6i4G"
   },
   "outputs": [],
   "source": [
    "def multiplication_number(number):\n",
    "    number_str = str(number)\n",
    "    k = 0\n",
    "    while len(number_str) != 1:\n",
    "        new_num = 1\n",
    "        for i in range(len(number_str)):\n",
    "            new_num *= int(number_str[i])\n",
    "        number_str = str(new_num)\n",
    "        k += 1\n",
    "    return k\n",
    "\n",
    "print(multiplication_number(39))\n",
    "print(multiplication_number(4))\n",
    "print(multiplication_number(999))"
   ]
  },
  {
   "cell_type": "markdown",
   "metadata": {
    "id": "0nS-kIa8g8vd"
   },
   "source": [
    "# Задача 5\n",
    "Написать функцию, которая принимает два целочисленных вектора одинаковой длины и\n",
    "возвращает среднеквадратическое отклонение двух векторов. Написать тесты для кода"
   ]
  },
  {
   "cell_type": "code",
   "execution_count": null,
   "metadata": {
    "id": "8iphx4LM6xbx"
   },
   "outputs": [],
   "source": [
    "import math\n",
    "\n",
    "def msd(pred, true):\n",
    "    n = len(pred)\n",
    "    sum_of_squares = sum((x - y) ** 2 for x, y in zip(pred, true))\n",
    "    mean_square = sum_of_squares / n\n",
    "    msd_value = math.sqrt(mean_square)\n",
    "    return msd_value\n",
    "\n",
    "vec1 = [1, 2, 4, 5, 7]\n",
    "vec2 = [9, 7, 9, 2, 3]\n",
    "msd_val = msd(vec1, vec2)\n",
    "print(msd_val)"
   ]
  },
  {
   "cell_type": "markdown",
   "metadata": {
    "id": "vpIPKL439zkw"
   },
   "source": [
    "# Задача 6\n",
    "Написать функцию, принимающая целое положительное число. Функция должна вернуть\n",
    "строку вида “(n1**p1)(n2**p2)…(nk**pk)” представляющая разложение числа на простые\n",
    "множители (если pi == 1, то выводить только ni).\n",
    "Например, для числа 86240 функция должна вернуть “(2**5)(5)(7**2)(11)”. Написать тесты для кода"
   ]
  },
  {
   "cell_type": "code",
   "execution_count": null,
   "metadata": {
    "id": "pFebmcZk94Jw"
   },
   "outputs": [],
   "source": [
    "def multipliers(n):\n",
    "    res = []\n",
    "    i = 2\n",
    "    while i * i <= n:\n",
    "        if n % i == 0:\n",
    "            count = 0\n",
    "            while n % i == 0:\n",
    "                count += 1\n",
    "                n //= i\n",
    "            res.append((i, count))\n",
    "        i += 1\n",
    "    if n > 1:\n",
    "        res.append((n, 1))\n",
    "    return \"\".join(f\"({num}^{power})\" if power > 1 else f\"({num})\" for num, power in res)\n",
    "\n",
    "for i in range(2, 20):\n",
    "    print(i, multipliers(i))"
   ]
  },
  {
   "cell_type": "markdown",
   "metadata": {
    "id": "ps2s0BudX7A2"
   },
   "source": [
    "# Задача 7\n",
    "Написать функцию, принимающая целое число n, задающее количество кубиков. Функция\n",
    "должна определить, можно ли из данного кол-ва кубиков построить пирамиду, то есть\n",
    "можно ли представить число n как 1^2+2^2+3^2+…+k^2. Если можно, то функция должна\n",
    "вернуть k, иначе строку “It is impossible”. Написать тесты для кода"
   ]
  },
  {
   "cell_type": "code",
   "execution_count": null,
   "metadata": {
    "id": "3YPjEXxhX_YT"
   },
   "outputs": [],
   "source": [
    "def pyramid(number):\n",
    "    n2 = 0\n",
    "    for i in range(1, number):\n",
    "        n2 += i**2\n",
    "        if n2 == number:\n",
    "            return i\n",
    "        elif n2 > number:\n",
    "            return 'It is not possible'\n",
    "\n",
    "for i in range(1, 100):\n",
    "    print(i, pyramid(i))"
   ]
  },
  {
   "cell_type": "markdown",
   "metadata": {
    "id": "KeKgmIdAQMEJ"
   },
   "source": [
    "# Задача 8\n",
    "Функция принимает на вход положительное число и определяет является ли оно сбалансированным, т.е. сумма цифр до средних равна сумме цифр после. Средними в случае нечетного числа цифр считать одну цифру, в случае четного - две средних. Написать тесты для кода"
   ]
  },
  {
   "cell_type": "code",
   "execution_count": null,
   "metadata": {
    "id": "gMAAqtqlQrZt"
   },
   "outputs": [],
   "source": [
    "def sum_count(num):\n",
    "    summ = 0\n",
    "    for i in range(len(num)):\n",
    "        summ += int(num[i])\n",
    "    return summ\n",
    "\n",
    "def middle(num):\n",
    "    num_str = str(num)\n",
    "    if num < 100:\n",
    "        return None\n",
    "    if len(num_str) % 2 != 0:\n",
    "        return sum_count(num_str[0:len(num_str)//2]) == sum_count(num_str[len(num_str)//2 + 1:])\n",
    "    else:\n",
    "        return sum_count(num_str[0:len(num_str)//2 - 1]) == sum_count(num_str[len(num_str)//2 + 1:])\n",
    "\n",
    "print(middle(4598666))\n",
    "print(middle(4578666))\n",
    "print(middle(45786664))\n",
    "print(middle(45786663))"
   ]
  }
 ],
 "metadata": {
  "colab": {
   "provenance": []
  },
  "kernelspec": {
   "display_name": "Python 3 (ipykernel)",
   "language": "python",
   "name": "python3"
  },
  "language_info": {
   "codemirror_mode": {
    "name": "ipython",
    "version": 3
   },
   "file_extension": ".py",
   "mimetype": "text/x-python",
   "name": "python",
   "nbconvert_exporter": "python",
   "pygments_lexer": "ipython3",
   "version": "3.12.5"
  }
 },
 "nbformat": 4,
 "nbformat_minor": 4
}
